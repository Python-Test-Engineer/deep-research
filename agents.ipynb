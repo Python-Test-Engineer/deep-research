{
 "cells": [
  {
   "cell_type": "markdown",
   "metadata": {},
   "source": [
    "### Agents\n",
    "Agents in essence are LLMs that accomplish a specific task. They can be supplemented with tools, structured output, and handoff to other agents."
   ]
  },
  {
   "cell_type": "code",
   "execution_count": 1,
   "metadata": {},
   "outputs": [],
   "source": [
    "from dotenv import load_dotenv\n",
    "import os\n",
    "\n",
    "# loads the .env file (if you have a global environment variable, you can skip this)\n",
    "load_dotenv()\n",
    "\n",
    "api_key = os.environ.get(\"OPENAI_API_KEY\")\n",
    "\n",
    "if not api_key:\n",
    "    raise ValueError(\"OPENAI_API_KEY is not set in the environment variables\")"
   ]
  },
  {
   "cell_type": "code",
   "execution_count": 2,
   "metadata": {},
   "outputs": [
    {
     "data": {
      "text/plain": [
       "\"HELLO! I'M GREAT, THANK YOU! HOW ABOUT YOU?\""
      ]
     },
     "execution_count": 2,
     "metadata": {},
     "output_type": "execute_result"
    }
   ],
   "source": [
    "from agents import Agent, Runner\n",
    "\n",
    "agent = Agent(\n",
    "    name=\"Basic Agent\",\n",
    "    instructions=\"You are a helpful assistant. Respond on in all caps.\",\n",
    "    model=\"gpt-4o-mini\"\n",
    ")\n",
    "\n",
    "result = await Runner.run(agent, \"Hello! How are you?\")\n",
    "result.final_output"
   ]
  },
  {
   "cell_type": "code",
   "execution_count": 3,
   "metadata": {},
   "outputs": [
    {
     "data": {
      "text/plain": [
       "\"Why don't boogers ever win races?\\n\\nBecause they always get picked!\""
      ]
     },
     "execution_count": 3,
     "metadata": {},
     "output_type": "execute_result"
    }
   ],
   "source": [
    "joke_agent = Agent(\n",
    "    name=\"Joke Agent\",\n",
    "    instructions=\"You are a joke teller. You are given a topic and you need to tell a joke about it.\",\n",
    ")\n",
    "\n",
    "topic = \"Boogers\"\n",
    "result = await Runner.run(joke_agent, topic)\n",
    "result.final_output"
   ]
  },
  {
   "cell_type": "code",
   "execution_count": 4,
   "metadata": {},
   "outputs": [
    {
     "name": "stdout",
     "output_type": "stream",
     "text": [
      "Original joke:\n",
      "Why did the booger go to school?\n",
      "\n",
      "Because it wanted to be a little boulder!\n",
      "\n",
      "Translated joke:\n",
      "¿Por qué fue el moco a la escuela?\n",
      "\n",
      "¡Porque quería ser un poco más valiente!\n"
     ]
    }
   ],
   "source": [
    "language_agent = Agent(\n",
    "    name=\"Language Agent\",\n",
    "    instructions=\"You are a language expert. You are given a joke and you need to rewrite it in a different language.\",\n",
    ")\n",
    "\n",
    "joke_result = await Runner.run(joke_agent, topic)\n",
    "translated_result = await Runner.run(language_agent, f\"Translate this joke to Spanish: {joke_result.final_output}\")\n",
    "print(f\"Original joke:\\n{joke_result.final_output}\\n\")\n",
    "print(f\"Translated joke:\\n{translated_result.final_output}\")"
   ]
  },
  {
   "cell_type": "markdown",
   "metadata": {},
   "source": [
    "### Structured Outputs\n",
    "Structured outputs are a way to format the output of an LLM in a structured manner. This can be useful for tasks that require specific formatting or data extraction."
   ]
  },
  {
   "cell_type": "code",
   "execution_count": 5,
   "metadata": {},
   "outputs": [],
   "source": [
    "from pydantic import BaseModel\n",
    "from agents import Agent\n",
    "\n",
    "class Recipe(BaseModel):\n",
    "    title: str\n",
    "    ingredients: list[str]\n",
    "    cooking_time: int # in minutes\n",
    "    servings: int\n",
    "\n",
    "recipe_agent = Agent(\n",
    "    name=\"Recipe Agent\", \n",
    "    instructions=(\"You are an agent for creating recipes. You will be given the name of a food and your job\"\n",
    "                  \" is to output that as an actual detailed recipe. The cooking time should be in minutes.\"),\n",
    "    output_type=Recipe\n",
    ")\n",
    "\n",
    "response = await Runner.run(recipe_agent, \"Italian Sasuage with Spaghetti\")\n",
    "recipe = response.final_output"
   ]
  },
  {
   "cell_type": "markdown",
   "metadata": {},
   "source": [
    "### Tool Calling\n",
    "Tool calling is a way to extend the capabilities of an LLM by allowing it to call external tools or APIs. This can be useful for tasks that require access to external data or services."
   ]
  },
  {
   "cell_type": "code",
   "execution_count": 6,
   "metadata": {},
   "outputs": [
    {
     "name": "stdout",
     "output_type": "stream",
     "text": [
      "Getting weather for Dallas\n",
      "Getting temperature for Dallas\n"
     ]
    },
    {
     "data": {
      "text/plain": [
       "'The weather in Dallas is sunny, with a temperature of 70 degrees.'"
      ]
     },
     "execution_count": 6,
     "metadata": {},
     "output_type": "execute_result"
    }
   ],
   "source": [
    "from agents import Agent, function_tool\n",
    "\n",
    "@function_tool\n",
    "def get_weather(city: str) -> str:\n",
    "    print(f\"Getting weather for {city}\")\n",
    "    return \"sunny\"\n",
    "\n",
    "@function_tool\n",
    "def get_temperature(city: str) -> str:\n",
    "    print(f\"Getting temperature for {city}\")\n",
    "    return \"70 degrees\"\n",
    "\n",
    "agent = Agent(\n",
    "    name=\"Weather Agent\",\n",
    "    instructions=\"You are the local weather agent. You are given a city and you need to tell the weather and temperature. For any unrelated queries, say I cant help with that.\",\n",
    "    tools=[get_weather, get_temperature]\n",
    ")\n",
    "\n",
    "result = await Runner.run(agent, \"Dallas\")\n",
    "result.final_output"
   ]
  },
  {
   "cell_type": "code",
   "execution_count": 7,
   "metadata": {},
   "outputs": [
    {
     "name": "stdout",
     "output_type": "stream",
     "text": [
      "Here are some recent developments in U.S. politics:\n",
      "\n",
      "**Trump Administration's Anti-Christian Bias Task Force**\n",
      "\n",
      "President Donald Trump has established a task force aimed at eliminating perceived anti-Christian bias. This initiative requires the government to define authentic Christian beliefs and practices, a move that has sparked debate due to Christianity's diverse interpretations. Critics argue that such a government-led definition is problematic and may serve more as a political tool than a means to promote fairness. ([theatlantic.com](https://www.theatlantic.com/ideas/archive/2025/05/anti-christian-bias-task-force/682755/?utm_source=openai))\n",
      "\n",
      "**'Make Hollywood Great Again' Initiative**\n",
      "\n",
      "In an effort to appeal to service-sector workers, President Trump has shifted his populist rhetoric towards the media industry with the slogan \"Make Hollywood Great Again.\" Proposing tariffs on foreign-made films, Trump aims to boost domestic production and address concerns over outsourcing and technological disruptions, such as AI, affecting Hollywood workers. While the economic impact of this policy is debated, it is seen as a strategic move to gain support from workers fearing job loss and declining prospects. ([ft.com](https://www.ft.com/content/215bfc35-dba3-4bb8-a0a1-cb60f3b09409?utm_source=openai))\n",
      "\n",
      "**Illinois Senate Race and Political Shifts**\n",
      "\n",
      "Senator Dick Durbin's decision not to seek reelection in 2026 has set the stage for significant changes in Illinois politics. House Democrats Raja Krishnamoorthi and Robin Kelly have declared their candidacies, with potential runs from Lauren Underwood and Republican Darin LaHood. This could lead to six open federal congressional seats, the highest in modern state history, potentially reshaping Illinois's congressional delegation. ([axios.com](https://www.axios.com/local/chicago/2025/05/12/senate-illinois-politics-durbin-krishnamoorthi-underwood-kelly-stratton-lahood-pritzker?utm_source=openai))\n",
      "\n",
      "**Impact on International Student Enrollment**\n",
      "\n",
      "Restrictive policies and political tensions under the Trump administration are affecting international student interest in U.S. universities. Concerns over visa uncertainties and reports of legal status terminations have led some students to reconsider studying in the U.S. This trend poses potential financial challenges for American universities that rely on international tuition income. Meanwhile, countries like Canada, Australia, and the U.K. are attracting more students amid perceptions of a less welcoming U.S. stance. ([apnews.com](https://apnews.com/article/3b1b7b8b248b6092458f3c323a62f8ec?utm_source=openai))\n",
      "\n",
      "**White South Africans Granted Refugee Status**\n",
      "\n",
      "On May 11, 2025, the first group of white South Africans was granted refugee status under a U.S. program initiated by former President Trump. Departing from Johannesburg, 49 vetted passengers boarded a flight to the U.S., with Texas as their final destination. This move has sparked controversy, with critics highlighting racial biases in accepting white refugees while rejecting non-white applicants. South African authorities have also criticized the U.S. for interfering in complex domestic racial dynamics. ([reuters.com](https://www.reuters.com/world/africa/first-white-south-africans-board-plane-us-under-trump-refugee-plan-2025-05-11/?utm_source=openai))\n",
      "\n",
      "**U.S.-UK Trade Agreement**\n",
      "\n",
      "The recent U.S.-UK trade agreement, celebrated as a major deal since Trump's \"liberation day,\" includes lowered UK car tariffs and increased access for U.S. agricultural exports. However, many provisions are non-binding, reflecting Trump's preference for strategic ambiguity. Critics argue that the UK has conceded to heightened U.S. tariffs, potentially undermining global trade norms and indicating a shift in global trade dynamics. ([ft.com](https://www.ft.com/content/26e457b3-d749-4d6a-8097-b06bbed29d88?utm_source=openai))\n",
      "\n",
      "\n",
      "## Recent Developments in U.S. Politics:\n",
      "- [Who Counts as Christian?](https://www.theatlantic.com/ideas/archive/2025/05/anti-christian-bias-task-force/682755/?utm_source=openai)\n",
      "- [Why 'Make Hollywood Great Again' makes sense](https://www.ft.com/content/215bfc35-dba3-4bb8-a0a1-cb60f3b09409?utm_source=openai)\n",
      "- [Senate race could set off seismic shift in Illinois politics](https://www.axios.com/local/chicago/2025/05/12/senate-illinois-politics-durbin-krishnamoorthi-underwood-kelly-stratton-lahood-pritzker?utm_source=openai) \n"
     ]
    }
   ],
   "source": [
    "from agents import WebSearchTool\n",
    "\n",
    "news_agent = Agent(\n",
    "    name=\"News Reporter\",\n",
    "    instructions=\"You are a news reporter. Your job is to find recent news articles on the internet about US politics.\",\n",
    "    tools=[WebSearchTool()]\n",
    ")\n",
    "\n",
    "result = await Runner.run(news_agent, \"find news\")\n",
    "print(result.final_output)"
   ]
  }
 ],
 "metadata": {
  "kernelspec": {
   "display_name": "venv",
   "language": "python",
   "name": "python3"
  },
  "language_info": {
   "codemirror_mode": {
    "name": "ipython",
    "version": 3
   },
   "file_extension": ".py",
   "mimetype": "text/x-python",
   "name": "python",
   "nbconvert_exporter": "python",
   "pygments_lexer": "ipython3",
   "version": "3.12.10"
  }
 },
 "nbformat": 4,
 "nbformat_minor": 2
}
