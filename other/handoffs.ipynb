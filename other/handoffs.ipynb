{
 "cells": [
  {
   "cell_type": "markdown",
   "metadata": {},
   "source": [
    "### Handoffs\n",
    "A way for an agent to invoke another agent"
   ]
  },
  {
   "cell_type": "code",
   "execution_count": 1,
   "metadata": {},
   "outputs": [],
   "source": [
    "from dotenv import load_dotenv\n",
    "import os\n",
    "\n",
    "load_dotenv()\n",
    "\n",
    "api_key = os.environ.get(\"OPENAI_API_KEY\")\n",
    "if not api_key:\n",
    "    raise ValueError(\"OPENAI_API_KEY is not set in the environment variables\")"
   ]
  },
  {
   "cell_type": "code",
   "execution_count": 2,
   "metadata": {},
   "outputs": [
    {
     "name": "stdout",
     "output_type": "stream",
     "text": [
      "Here's an outline for a tutorial on Loops in Java:\n",
      "\n",
      "### Introduction\n",
      "- Overview of loops in programming\n",
      "- Importance and use cases of loops\n",
      "\n",
      "### Types of Loops in Java\n",
      "1. **For Loop**\n",
      "   - Syntax\n",
      "   - Simple example\n",
      "   - Use cases and benefits\n",
      "\n",
      "2. **Enhanced For Loop (For-Each Loop)**\n",
      "   - Syntax\n",
      "   - Example with arrays and collections\n",
      "   - When to use enhanced for loop\n",
      "\n",
      "3. **While Loop**\n",
      "   - Syntax\n",
      "   - Basic example\n",
      "   - Use cases for while loop\n",
      "\n",
      "4. **Do-While Loop**\n",
      "   - Syntax\n",
      "   - Example and difference from while loop\n",
      "   - Appropriate use cases\n",
      "\n",
      "### Nested Loops\n",
      "- Explanation and example\n",
      "- Performance considerations\n",
      "- Common use cases for nested loops\n",
      "\n",
      "### Loop Control Statements\n",
      "1. **Break Statement**\n",
      "   - Syntax and example\n",
      "   - Use cases for breaking out of loops\n",
      "\n",
      "2. **Continue Statement**\n",
      "   - Syntax and example\n",
      "   - Use cases for skipping iterations\n",
      "\n",
      "3. **Return in Loops**\n",
      "   - How return statement works within loops\n",
      "\n",
      "### Best Practices\n",
      "- Avoiding infinite loops\n",
      "- Minimizing the number of loops\n",
      "- Choosing the right type of loop for different scenarios\n",
      "\n",
      "### Common Mistakes\n",
      "- Off-by-one errors\n",
      "- Misplacing loop control statements\n",
      "- Looping over the wrong range or condition\n",
      "\n",
      "### Hands-On Examples\n",
      "- Practical coding exercises\n",
      "- Step-by-step coding challenges\n",
      "\n",
      "### Conclusion\n",
      "- Recap of key points\n",
      "- Further reading and resources\n",
      "\n",
      "Would you like me to transfer this to the tutorial generator?\n"
     ]
    }
   ],
   "source": [
    "from agents import Agent, Runner\n",
    "from pydantic import BaseModel\n",
    "\n",
    "class Tutorial(BaseModel):\n",
    "    outline: str\n",
    "    tutorial: str\n",
    "\n",
    "tutorial_generator = Agent(\n",
    "    name=\"Tutorial Generator\",\n",
    "    handoff_description=\"Used for generating a tutorial based on an outline.\",\n",
    "    instructions=(\n",
    "        \"Given a programming topic and an outline, your job is to generate code snippets for each section of the outline.\"\n",
    "        \"Format the tutorial in Markdown using a mix of text for explanation and code snippets for examples.\"\n",
    "        \"Where it makes sense, include comments in the code snippets to further explain the code.\"\n",
    "    ),\n",
    "    output_type=Tutorial\n",
    ")\n",
    "\n",
    "outline_builder = Agent(\n",
    "    name=\"Outline Builder\",\n",
    "    instructions=(\n",
    "        \"Given a particular programming topic, your job is to help come up with a tutorial. You will do that by crafting an outline.\"\n",
    "        \"After making the outline, hand it to the tutorial generator agent.\"\n",
    "    ),\n",
    "    handoffs=[tutorial_generator]\n",
    ")\n",
    "\n",
    "tutorial_response = await Runner.run(outline_builder, \"Loops in Java\")\n",
    "print(tutorial_response.final_output)"
   ]
  },
  {
   "cell_type": "code",
   "execution_count": 3,
   "metadata": {},
   "outputs": [],
   "source": [
    "from agents import Agent, Runner, handoff, RunContextWrapper\n",
    "\n",
    "history_tutor_agent = Agent(\n",
    "    name=\"History Tutor\",\n",
    "    handoff_description=\"Specialist agent for historical questions\",\n",
    "    instructions=\"You provide assistance with historical queries. Explain important events and context clearly.\",\n",
    ")\n",
    "\n",
    "math_tutor_agent = Agent(\n",
    "    name=\"Math Tutor\",\n",
    "    handoff_description=\"Specialist agent for math questions\",\n",
    "    instructions=\"You provide assistance with math queries. Explain your reasoning at each step and include examples\"\n",
    ")\n",
    "\n",
    "def on_math_handoff(ctx: RunContextWrapper[None]):\n",
    "    print(\"Handing off to math tutor agent\")\n",
    "\n",
    "def on_history_handoff(ctx: RunContextWrapper[None]):\n",
    "    print(\"Handing off to history tutor agent\")\n",
    "\n",
    "# This agent has the capability to handoff to either the history or math tutor agent\n",
    "triage_agent = Agent(\n",
    "    name=\"Triage Agent\",\n",
    "    instructions=\"You determine which agent to use based on the user's homework question.\" +\n",
    "    \"If neither agent is relevant, provide a general response.\",\n",
    "    handoffs=[handoff(history_tutor_agent, on_handoff=on_history_handoff), \n",
    "              handoff(math_tutor_agent, on_handoff=on_math_handoff)]\n",
    ")"
   ]
  },
  {
   "cell_type": "code",
   "execution_count": 4,
   "metadata": {},
   "outputs": [
    {
     "name": "stdout",
     "output_type": "stream",
     "text": [
      "Handing off to math tutor agent\n"
     ]
    },
    {
     "data": {
      "text/plain": [
       "\"Adding 2 and 2 is a straightforward process. Here's how you do it:\\n\\n1. **Identify the Numbers**: You have two numbers, which are both 2.\\n\\n2. **Add the First Number**: Start with the first 2.\\n\\n3. **Add the Second Number**: Add the second 2 to the first.\\n\\n    \\\\[\\n    2 + 2 = 4\\n    \\\\]\\n\\n4. **Result**: The sum of 2 and 2 is 4.\\n\\n**Example**: If you have two apples and you get two more apples, you now have four apples in total.\\n\\nThis simple process is the basic concept of addition!\""
      ]
     },
     "execution_count": 4,
     "metadata": {},
     "output_type": "execute_result"
    }
   ],
   "source": [
    "result = await Runner.run(triage_agent, \"How do I add 2 and 2?\")\n",
    "result.final_output"
   ]
  },
  {
   "cell_type": "code",
   "execution_count": 5,
   "metadata": {},
   "outputs": [
    {
     "name": "stdout",
     "output_type": "stream",
     "text": [
      "Handing off to history tutor agent\n"
     ]
    },
    {
     "data": {
      "text/plain": [
       "\"World War II began on September 1, 1939, when Germany, led by Adolf Hitler, invaded Poland. This aggressive action prompted Britain and France to declare war on Germany two days later, on September 3.\\n\\nTo understand the start of World War II, it's important to consider several key factors and events leading up to this moment:\\n\\n1. **Treaty of Versailles (1919):** The harsh terms imposed on Germany after World War I created economic hardship and resentment among Germans. The treaty required Germany to accept responsibility for the war, make substantial territorial concessions, and pay reparations.\\n\\n2. **Rise of Hitler and the Nazi Party:** Adolf Hitler and the National Socialist German Workers' Party (Nazi Party) capitalized on economic woes, nationalistic fervor, and dissatisfaction with the Weimar Republic to gain power. Hitler became Chancellor of Germany in 1933 and quickly established a totalitarian regime.\\n\\n3. **Expansionist Policies:** Hitler sought to overturn the Treaty of Versailles and expand German territory. He reoccupied the Rhineland in 1936, annexed Austria in the Anschluss of 1938, and demanded the Sudetenland from Czechoslovakia, which was ceded after the Munich Agreement in September 1938.\\n\\n4. **Failure of Appeasement:** Western powers, particularly Britain and France, followed a policy of appeasement, hoping to avoid conflict by conceding to some of Hitler’s demands. This approach only emboldened him further.\\n\\n5. **Nazi-Soviet Pact (Molotov-Ribbentrop Pact):** On August 23, 1939, Nazi Germany and the Soviet Union signed a non-aggression pact, with a secret protocol to divide Eastern Europe, including Poland, between them. This pact ensured that Germany could invade Poland without Soviet interference.\\n\\n6. **Invasion of Poland:** The invasion was characterized by the use of blitzkrieg tactics — rapid and overwhelming attacks combining air power and fast-moving ground troops. Poland was quickly overrun.\\n\\nThese events and policies led to the outbreak of a war that soon involved much of the world, expanding far beyond Europe.\""
      ]
     },
     "execution_count": 5,
     "metadata": {},
     "output_type": "execute_result"
    }
   ],
   "source": [
    "result = await Runner.run(triage_agent, \"How did WW2 start?\")\n",
    "result.final_output"
   ]
  },
  {
   "cell_type": "code",
   "execution_count": 6,
   "metadata": {},
   "outputs": [
    {
     "name": "stdout",
     "output_type": "stream",
     "text": [
      "Could you please specify which event or location you're inquiring about?\n"
     ]
    }
   ],
   "source": [
    "from agents import function_tool\n",
    "\n",
    "class ManagerEscalation(BaseModel):\n",
    "    issue: str # the issue being escalated\n",
    "    why: str # why can you not handle it? Used for training in the future\n",
    "\n",
    "@function_tool\n",
    "def create_ticket(issue: str):\n",
    "    \"\"\"\"\n",
    "    Create a ticket in the system for an issue to be resolved.\n",
    "    \"\"\"\n",
    "    print(f\"Creating ticket for issue: {issue}\")\n",
    "    return \"Ticket created. ID: 12345\"\n",
    "    # In a real-world scenario, this would interact with a ticketing system\n",
    "\n",
    "manager_agent = Agent(\n",
    "    name=\"Manager\",\n",
    "    handoff_description=\"Handles escalated issues that require managerial attention\",\n",
    "    instructions=(\n",
    "        \"You handle escalated customer issues that the initial custom service agent could not resolve. \"\n",
    "        \"You will receive the issue and the reason for escalation. If the issue cannot be immediately resolved for the \"\n",
    "        \"customer, create a ticket in the system and inform the customer.\"\n",
    "    ),\n",
    "    tools=[create_ticket],\n",
    ")\n",
    "\n",
    "def on_manager_handoff(ctx: RunContextWrapper[None], input: ManagerEscalation):\n",
    "    print(\"Escalating to manager agent: \", input.issue)\n",
    "    print(\"Reason for escalation: \", input.why)\n",
    "\n",
    "    # here we might store the escalation in a database or log it for future reference\n",
    "\n",
    "customer_service_agent = Agent(\n",
    "    name=\"Customer Service\",\n",
    "    instructions=\"You assist customers with general inquiries and basic troubleshooting. \" +\n",
    "                 \"If the issue cannot be resolved, escalate it to the Manager along with the reason why you cannot fix the issue yourself.\",\n",
    "    handoffs=[handoff(\n",
    "        agent=manager_agent,\n",
    "        input_type=ManagerEscalation,\n",
    "        on_handoff=on_manager_handoff,\n",
    "    )]\n",
    ")\n",
    "\n",
    "result = await Runner.run(customer_service_agent, \"Hello how much are tickets?\")\n",
    "print(result.final_output)"
   ]
  },
  {
   "cell_type": "markdown",
   "metadata": {},
   "source": [
    "#### Recommended Prompt Prefix\n",
    "The recommended prompt prefix is a constant that OpenAI recommends you give to handoff agents to improve understanding."
   ]
  },
  {
   "cell_type": "code",
   "execution_count": 7,
   "metadata": {},
   "outputs": [],
   "source": [
    "from agents.extensions.handoff_prompt import RECOMMENDED_PROMPT_PREFIX\n",
    "\n",
    "billing_agent = Agent(\n",
    "    name=\"Billing agent\",\n",
    "    instructions=f\"\"\"{RECOMMENDED_PROMPT_PREFIX}\n",
    "    <Fill in the rest of your prompt here>.\"\"\",\n",
    ")"
   ]
  }
 ],
 "metadata": {
  "kernelspec": {
   "display_name": "venv",
   "language": "python",
   "name": "python3"
  },
  "language_info": {
   "codemirror_mode": {
    "name": "ipython",
    "version": 3
   },
   "file_extension": ".py",
   "mimetype": "text/x-python",
   "name": "python",
   "nbconvert_exporter": "python",
   "pygments_lexer": "ipython3",
   "version": "3.12.10"
  }
 },
 "nbformat": 4,
 "nbformat_minor": 2
}
